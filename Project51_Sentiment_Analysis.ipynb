{
 "cells": [
  {
   "cell_type": "code",
   "execution_count": 1,
   "metadata": {
    "_cell_guid": "b1076dfc-b9ad-4769-8c92-a6c4dae69d19",
    "_uuid": "8f2839f25d086af736a60e9eeb907d3b93b6e0e5"
   },
   "outputs": [],
   "source": [
    "import numpy as np \n",
    "import pandas as pd \n",
    "from textblob import TextBlob\n",
    "from sklearn.metrics import mean_squared_error"
   ]
  },
  {
   "cell_type": "markdown",
   "metadata": {},
   "source": [
    "# Appendix F - Text Evaluation"
   ]
  },
  {
   "cell_type": "markdown",
   "metadata": {},
   "source": [
    "-----------"
   ]
  },
  {
   "cell_type": "markdown",
   "metadata": {},
   "source": [
    "### Performance Evaluation\n",
    "After generating summaries using a number of different methods, one thing that is crucial to any Machine Learning task is performance evaluation, i.e. generating a numerical score that is indicative of how well the model is doing at it's given task. Several methods exist to evaluate text output. However, there is no 'standard' when it comes to a performance test. \n",
    "\n",
    "The need for a meaningful score is essential for any machine learning system for many reasons, including:\n",
    "\n",
    "* Compare different models\n",
    "* Evaluate the increase/decrease in perfromance when a change is implemented in our system.\n",
    "\n",
    "--------------\n",
    "\n",
    "### BLEU\n",
    "One of the most commonly used tests is the *BLEU* (Bilingual Evaluation Understudy) is commongly used for evaluating sequence to sequence tasks. However, it does not do well as an evalautor when applied to tasks that it was never intended to evaluate. Among BLEU's drawbacks are:\n",
    "\n",
    "* It does not consider meaning\n",
    "* It doesn not consider sentence structure\n",
    "* It doesn't map well to human Judgements.\n",
    "\n",
    "### Sentiment Analysis\n",
    "Taking into account the drawbacks that exist for BLEU, We decided to opt for sentiment analysis as a perfomance metric. Though not a widely used evalation metric, it seems intuitive that a generated text should be a *true* representation of the original text in terms of essence, i.e. polarity and subjectivity. In other words, the gist of the original text should be represented in the generated summary. Moreover, considering the different models in this project having a model which enables us to compare the different models.\n",
    "\n",
    "Several libraries exist that are capable of performing senetence analysis, for our task we opted to go for TextBlob's sentiment feature. Which gives a score of (-1, 1) for polarity and (0, 1) for subjectivity. After generating a score for both the original text and generated summary we compute the *MSE*, to measure the deviation of the generated scores from the actual scores.\n",
    "\n"
   ]
  },
  {
   "cell_type": "markdown",
   "metadata": {},
   "source": [
    "--------------------"
   ]
  },
  {
   "cell_type": "markdown",
   "metadata": {},
   "source": [
    "## Supervised Learning"
   ]
  },
  {
   "cell_type": "code",
   "execution_count": 2,
   "metadata": {},
   "outputs": [
    {
     "data": {
      "text/html": [
       "<div>\n",
       "<style scoped>\n",
       "    .dataframe tbody tr th:only-of-type {\n",
       "        vertical-align: middle;\n",
       "    }\n",
       "\n",
       "    .dataframe tbody tr th {\n",
       "        vertical-align: top;\n",
       "    }\n",
       "\n",
       "    .dataframe thead th {\n",
       "        text-align: right;\n",
       "    }\n",
       "</style>\n",
       "<table border=\"1\" class=\"dataframe\">\n",
       "  <thead>\n",
       "    <tr style=\"text-align: right;\">\n",
       "      <th></th>\n",
       "      <th>cleaned_text</th>\n",
       "      <th>cleaned_summary</th>\n",
       "    </tr>\n",
       "    <tr>\n",
       "      <th>id</th>\n",
       "      <th></th>\n",
       "      <th></th>\n",
       "    </tr>\n",
       "  </thead>\n",
       "  <tbody>\n",
       "    <tr>\n",
       "      <th>1268383</th>\n",
       "      <td>majority of the court therefore being of the ...</td>\n",
       "      <td>murder in an indictment for murder the length ...</td>\n",
       "    </tr>\n",
       "    <tr>\n",
       "      <th>11272108</th>\n",
       "      <td>walker the grievance alleged by the plaintiff...</td>\n",
       "      <td>1 carriers of goods placing of cars understand...</td>\n",
       "    </tr>\n",
       "    <tr>\n",
       "      <th>11273534</th>\n",
       "      <td>hoke on the hearing it appeared that bailey a...</td>\n",
       "      <td>1 deeds and conveyances descriptions—reference...</td>\n",
       "    </tr>\n",
       "    <tr>\n",
       "      <th>11272694</th>\n",
       "      <td>hoke the facts pertinent to the inquiry and s...</td>\n",
       "      <td>1 wills devises—contingent limitations sales—r...</td>\n",
       "    </tr>\n",
       "    <tr>\n",
       "      <th>11272573</th>\n",
       "      <td>walker after stating tbe facts as above tbe p...</td>\n",
       "      <td>1 constitutional law amendments roads and high...</td>\n",
       "    </tr>\n",
       "  </tbody>\n",
       "</table>\n",
       "</div>"
      ],
      "text/plain": [
       "                                               cleaned_text  \\\n",
       "id                                                            \n",
       "1268383    majority of the court therefore being of the ...   \n",
       "11272108   walker the grievance alleged by the plaintiff...   \n",
       "11273534   hoke on the hearing it appeared that bailey a...   \n",
       "11272694   hoke the facts pertinent to the inquiry and s...   \n",
       "11272573   walker after stating tbe facts as above tbe p...   \n",
       "\n",
       "                                            cleaned_summary  \n",
       "id                                                           \n",
       "1268383   murder in an indictment for murder the length ...  \n",
       "11272108  1 carriers of goods placing of cars understand...  \n",
       "11273534  1 deeds and conveyances descriptions—reference...  \n",
       "11272694  1 wills devises—contingent limitations sales—r...  \n",
       "11272573  1 constitutional law amendments roads and high...  "
      ]
     },
     "execution_count": 2,
     "metadata": {},
     "output_type": "execute_result"
    }
   ],
   "source": [
    "## Read in Data \n",
    "sentiment_df = pd.read_parquet(\"../cases_final_nc_cleaned_v1.parquet.gzip\", engine=\"fastparquet\")\n",
    "\n",
    "sentiment_df.drop(columns=['text', 'summary'], inplace = True)\n",
    "sentiment_df.head()"
   ]
  },
  {
   "cell_type": "code",
   "execution_count": 3,
   "metadata": {},
   "outputs": [
    {
     "data": {
      "text/html": [
       "<div>\n",
       "<style scoped>\n",
       "    .dataframe tbody tr th:only-of-type {\n",
       "        vertical-align: middle;\n",
       "    }\n",
       "\n",
       "    .dataframe tbody tr th {\n",
       "        vertical-align: top;\n",
       "    }\n",
       "\n",
       "    .dataframe thead th {\n",
       "        text-align: right;\n",
       "    }\n",
       "</style>\n",
       "<table border=\"1\" class=\"dataframe\">\n",
       "  <thead>\n",
       "    <tr style=\"text-align: right;\">\n",
       "      <th></th>\n",
       "      <th>cleaned_text</th>\n",
       "      <th>cleaned_summary</th>\n",
       "    </tr>\n",
       "  </thead>\n",
       "  <tbody>\n",
       "    <tr>\n",
       "      <th>0</th>\n",
       "      <td>majority of the court therefore being of the ...</td>\n",
       "      <td>murder in an indictment for murder the length ...</td>\n",
       "    </tr>\n",
       "    <tr>\n",
       "      <th>1</th>\n",
       "      <td>walker the grievance alleged by the plaintiff...</td>\n",
       "      <td>1 carriers of goods placing of cars understand...</td>\n",
       "    </tr>\n",
       "    <tr>\n",
       "      <th>2</th>\n",
       "      <td>hoke on the hearing it appeared that bailey a...</td>\n",
       "      <td>1 deeds and conveyances descriptions—reference...</td>\n",
       "    </tr>\n",
       "    <tr>\n",
       "      <th>3</th>\n",
       "      <td>hoke the facts pertinent to the inquiry and s...</td>\n",
       "      <td>1 wills devises—contingent limitations sales—r...</td>\n",
       "    </tr>\n",
       "    <tr>\n",
       "      <th>4</th>\n",
       "      <td>walker after stating tbe facts as above tbe p...</td>\n",
       "      <td>1 constitutional law amendments roads and high...</td>\n",
       "    </tr>\n",
       "  </tbody>\n",
       "</table>\n",
       "</div>"
      ],
      "text/plain": [
       "                                        cleaned_text  \\\n",
       "0   majority of the court therefore being of the ...   \n",
       "1   walker the grievance alleged by the plaintiff...   \n",
       "2   hoke on the hearing it appeared that bailey a...   \n",
       "3   hoke the facts pertinent to the inquiry and s...   \n",
       "4   walker after stating tbe facts as above tbe p...   \n",
       "\n",
       "                                     cleaned_summary  \n",
       "0  murder in an indictment for murder the length ...  \n",
       "1  1 carriers of goods placing of cars understand...  \n",
       "2  1 deeds and conveyances descriptions—reference...  \n",
       "3  1 wills devises—contingent limitations sales—r...  \n",
       "4  1 constitutional law amendments roads and high...  "
      ]
     },
     "execution_count": 3,
     "metadata": {},
     "output_type": "execute_result"
    }
   ],
   "source": [
    "sentiment_df = sentiment_df.reset_index(drop=True)\n",
    "sentiment_df.head()"
   ]
  },
  {
   "cell_type": "markdown",
   "metadata": {},
   "source": [
    "### 1. Sentiment & Polarity"
   ]
  },
  {
   "cell_type": "code",
   "execution_count": 4,
   "metadata": {},
   "outputs": [
    {
     "name": "stdout",
     "output_type": "stream",
     "text": [
      "CPU times: user 23min 24s, sys: 132 ms, total: 23min 24s\n",
      "Wall time: 23min 24s\n"
     ]
    },
    {
     "data": {
      "text/html": [
       "<div>\n",
       "<style scoped>\n",
       "    .dataframe tbody tr th:only-of-type {\n",
       "        vertical-align: middle;\n",
       "    }\n",
       "\n",
       "    .dataframe tbody tr th {\n",
       "        vertical-align: top;\n",
       "    }\n",
       "\n",
       "    .dataframe thead th {\n",
       "        text-align: right;\n",
       "    }\n",
       "</style>\n",
       "<table border=\"1\" class=\"dataframe\">\n",
       "  <thead>\n",
       "    <tr style=\"text-align: right;\">\n",
       "      <th></th>\n",
       "      <th>cleaned_text</th>\n",
       "      <th>cleaned_summary</th>\n",
       "      <th>polarity_text</th>\n",
       "      <th>polarity_summary</th>\n",
       "      <th>subjectivity_text</th>\n",
       "      <th>subjectivity_summary</th>\n",
       "    </tr>\n",
       "  </thead>\n",
       "  <tbody>\n",
       "    <tr>\n",
       "      <th>0</th>\n",
       "      <td>majority of the court therefore being of the ...</td>\n",
       "      <td>murder in an indictment for murder the length ...</td>\n",
       "      <td>0.127273</td>\n",
       "      <td>0.000000</td>\n",
       "      <td>0.270909</td>\n",
       "      <td>0.000000</td>\n",
       "    </tr>\n",
       "    <tr>\n",
       "      <th>1</th>\n",
       "      <td>walker the grievance alleged by the plaintiff...</td>\n",
       "      <td>1 carriers of goods placing of cars understand...</td>\n",
       "      <td>0.100858</td>\n",
       "      <td>0.063244</td>\n",
       "      <td>0.455662</td>\n",
       "      <td>0.478571</td>\n",
       "    </tr>\n",
       "    <tr>\n",
       "      <th>2</th>\n",
       "      <td>hoke on the hearing it appeared that bailey a...</td>\n",
       "      <td>1 deeds and conveyances descriptions—reference...</td>\n",
       "      <td>0.067789</td>\n",
       "      <td>0.077041</td>\n",
       "      <td>0.353571</td>\n",
       "      <td>0.372109</td>\n",
       "    </tr>\n",
       "    <tr>\n",
       "      <th>3</th>\n",
       "      <td>hoke the facts pertinent to the inquiry and s...</td>\n",
       "      <td>1 wills devises—contingent limitations sales—r...</td>\n",
       "      <td>0.142308</td>\n",
       "      <td>0.075833</td>\n",
       "      <td>0.395147</td>\n",
       "      <td>0.318333</td>\n",
       "    </tr>\n",
       "    <tr>\n",
       "      <th>4</th>\n",
       "      <td>walker after stating tbe facts as above tbe p...</td>\n",
       "      <td>1 constitutional law amendments roads and high...</td>\n",
       "      <td>0.079642</td>\n",
       "      <td>0.184774</td>\n",
       "      <td>0.383253</td>\n",
       "      <td>0.399436</td>\n",
       "    </tr>\n",
       "  </tbody>\n",
       "</table>\n",
       "</div>"
      ],
      "text/plain": [
       "                                        cleaned_text  \\\n",
       "0   majority of the court therefore being of the ...   \n",
       "1   walker the grievance alleged by the plaintiff...   \n",
       "2   hoke on the hearing it appeared that bailey a...   \n",
       "3   hoke the facts pertinent to the inquiry and s...   \n",
       "4   walker after stating tbe facts as above tbe p...   \n",
       "\n",
       "                                     cleaned_summary  polarity_text  \\\n",
       "0  murder in an indictment for murder the length ...       0.127273   \n",
       "1  1 carriers of goods placing of cars understand...       0.100858   \n",
       "2  1 deeds and conveyances descriptions—reference...       0.067789   \n",
       "3  1 wills devises—contingent limitations sales—r...       0.142308   \n",
       "4  1 constitutional law amendments roads and high...       0.079642   \n",
       "\n",
       "   polarity_summary  subjectivity_text  subjectivity_summary  \n",
       "0          0.000000           0.270909              0.000000  \n",
       "1          0.063244           0.455662              0.478571  \n",
       "2          0.077041           0.353571              0.372109  \n",
       "3          0.075833           0.395147              0.318333  \n",
       "4          0.184774           0.383253              0.399436  "
      ]
     },
     "execution_count": 4,
     "metadata": {},
     "output_type": "execute_result"
    }
   ],
   "source": [
    "%%time\n",
    "## Add polarity (measures the positivity or negativity of text on -1.0-to-1.0 scale)\n",
    "sentiment_df['polarity_text'] = sentiment_df['cleaned_text'].apply(lambda x: TextBlob(x).sentiment.polarity)\n",
    "sentiment_df['polarity_summary'] = sentiment_df['cleaned_summary'].apply(lambda x: TextBlob(x).sentiment.polarity)\n",
    "\n",
    "## Add Subjectivity (measures how objective or subjective a text is on a 0.0-to-1.0 scale (greater = more subjective))\n",
    "sentiment_df['subjectivity_text'] = sentiment_df['cleaned_text'].apply(lambda x: TextBlob(x).sentiment.subjectivity)\n",
    "sentiment_df['subjectivity_summary'] = sentiment_df['cleaned_summary'].apply(lambda x: TextBlob(x).sentiment.subjectivity)\n",
    "\n",
    "sentiment_df.head()"
   ]
  },
  {
   "cell_type": "markdown",
   "metadata": {},
   "source": [
    "### 2. MSE"
   ]
  },
  {
   "cell_type": "code",
   "execution_count": 5,
   "metadata": {},
   "outputs": [
    {
     "name": "stdout",
     "output_type": "stream",
     "text": [
      "Polarity MSE:  0.015543\n",
      "\n",
      "Subjectivity MSE:  0.023467\n"
     ]
    }
   ],
   "source": [
    "## Calculate MSE\n",
    "true_polarity = sentiment_df['polarity_text'].values\n",
    "summary_polarity = sentiment_df['polarity_summary'].values\n",
    "\n",
    "true_subjectivity = sentiment_df['subjectivity_text'].values\n",
    "summary_subjectivity = sentiment_df['subjectivity_summary'].values\n",
    "\n",
    "print(\"Polarity MSE: \", round(mean_squared_error(true_polarity, summary_polarity), 6))\n",
    "print(\"\\nSubjectivity MSE: \", round(mean_squared_error(true_subjectivity, summary_subjectivity), 6))"
   ]
  },
  {
   "cell_type": "markdown",
   "metadata": {},
   "source": [
    "## Unsupervised"
   ]
  },
  {
   "cell_type": "code",
   "execution_count": 2,
   "metadata": {},
   "outputs": [
    {
     "data": {
      "text/html": [
       "<div>\n",
       "<style scoped>\n",
       "    .dataframe tbody tr th:only-of-type {\n",
       "        vertical-align: middle;\n",
       "    }\n",
       "\n",
       "    .dataframe tbody tr th {\n",
       "        vertical-align: top;\n",
       "    }\n",
       "\n",
       "    .dataframe thead th {\n",
       "        text-align: right;\n",
       "    }\n",
       "</style>\n",
       "<table border=\"1\" class=\"dataframe\">\n",
       "  <thead>\n",
       "    <tr style=\"text-align: right;\">\n",
       "      <th></th>\n",
       "      <th>opinion_text</th>\n",
       "      <th>opinion_text_summary</th>\n",
       "    </tr>\n",
       "    <tr>\n",
       "      <th>id</th>\n",
       "      <th></th>\n",
       "      <th></th>\n",
       "    </tr>\n",
       "  </thead>\n",
       "  <tbody>\n",
       "    <tr>\n",
       "      <th>11640036</th>\n",
       "      <td>\\nOPINION OF THE COIÍRT. This is an action of ...</td>\n",
       "      <td>This is an action of debt brought by the appel...</td>\n",
       "    </tr>\n",
       "    <tr>\n",
       "      <th>11638634</th>\n",
       "      <td>\\nOPINION OP THE COURT. This is an appeal from...</td>\n",
       "      <td>\\nOPINION OP THE COURT. This is an appeal from...</td>\n",
       "    </tr>\n",
       "    <tr>\n",
       "      <th>11641817</th>\n",
       "      <td>\\nCROSS, Judge.\\nThe record in this case shows...</td>\n",
       "      <td>The writ of error is prosecuted to reverse the...</td>\n",
       "    </tr>\n",
       "    <tr>\n",
       "      <th>243503</th>\n",
       "      <td>\\nW. H.“Dub” Arnold, Chief Justice.\\nThis is a...</td>\n",
       "      <td>In the trial court, appellant filed a motion t...</td>\n",
       "    </tr>\n",
       "    <tr>\n",
       "      <th>243557</th>\n",
       "      <td>\\nRay Thornton, Justice.\\nAppellant brings thi...</td>\n",
       "      <td>Hammon took possession of the loaded gun that ...</td>\n",
       "    </tr>\n",
       "  </tbody>\n",
       "</table>\n",
       "</div>"
      ],
      "text/plain": [
       "                                               opinion_text  \\\n",
       "id                                                            \n",
       "11640036  \\nOPINION OF THE COIÍRT. This is an action of ...   \n",
       "11638634  \\nOPINION OP THE COURT. This is an appeal from...   \n",
       "11641817  \\nCROSS, Judge.\\nThe record in this case shows...   \n",
       "243503    \\nW. H.“Dub” Arnold, Chief Justice.\\nThis is a...   \n",
       "243557    \\nRay Thornton, Justice.\\nAppellant brings thi...   \n",
       "\n",
       "                                       opinion_text_summary  \n",
       "id                                                           \n",
       "11640036  This is an action of debt brought by the appel...  \n",
       "11638634  \\nOPINION OP THE COURT. This is an appeal from...  \n",
       "11641817  The writ of error is prosecuted to reverse the...  \n",
       "243503    In the trial court, appellant filed a motion t...  \n",
       "243557    Hammon took possession of the loaded gun that ...  "
      ]
     },
     "execution_count": 2,
     "metadata": {},
     "output_type": "execute_result"
    }
   ],
   "source": [
    "## Read in Data\n",
    "unsupervisied_df = pd.read_parquet(\"../cases_summary_unsupervised.parquet.gzip\", engine=\"fastparquet\")\n",
    "unsupervisied_df = unsupervisied_df[['opinion_text', 'opinion_text_summary']]\n",
    "\n",
    "unsupervisied_df = unsupervisied_df.sample(frac=0.01, replace=True, random_state=1)\n",
    "unsupervisied_df.head()"
   ]
  },
  {
   "cell_type": "markdown",
   "metadata": {},
   "source": [
    "### 1. Sentiment & Polarity"
   ]
  },
  {
   "cell_type": "code",
   "execution_count": null,
   "metadata": {},
   "outputs": [],
   "source": [
    "%%time\n",
    "## Add polarity (measures the positivity or negativity of text on -1.0-to-1.0 scale)\n",
    "unsupervisied_df['polarity_text'] = unsupervisied_df['opinion_text'].apply(lambda x: TextBlob(x).sentiment.polarity)\n",
    "unsupervisied_df['polarity_summary'] = unsupervisied_df['opinion_text_summary'].apply(lambda x: TextBlob(x).sentiment.polarity)\n",
    "\n",
    "## Add Subjectivity (measures how objective or subjective a text is on a 0.0-to-1.0 scale (greater = more subjective))\n",
    "unsupervisied_df['subjectivity_text'] = unsupervisied_df['opinion_text'].apply(lambda x: TextBlob(x).sentiment.subjectivity)\n",
    "unsupervisied_df['subjectivity_summary'] = unsupervisied_df['opinion_text_summary'].apply(lambda x: TextBlob(x).sentiment.subjectivity)\n",
    "\n",
    "unsupervisied_df.head()"
   ]
  },
  {
   "cell_type": "markdown",
   "metadata": {},
   "source": [
    "### 2. MSE"
   ]
  },
  {
   "cell_type": "code",
   "execution_count": null,
   "metadata": {},
   "outputs": [],
   "source": [
    "## Calculate MSE\n",
    "true_polarity = unsupervisied_df['polarity_text'].values\n",
    "summary_polarity = unsupervisied_df['polarity_summary'].values\n",
    "\n",
    "true_subjectivity = unsupervisied_df['subjectivity_text'].values\n",
    "summary_subjectivity = unsupervisied_df['subjectivity_summary'].values\n",
    "\n",
    "print(\"Polarity MSE: \", round(mean_squared_error(true_polarity, summary_polarity), 6))\n",
    "print(\"\\nSubjectivity MSE: \", round(mean_squared_error(true_subjectivity, summary_subjectivity), 6))"
   ]
  },
  {
   "cell_type": "markdown",
   "metadata": {},
   "source": [
    "--------------\n",
    "## Conclusion:\n",
    "Although the MSE scores are very encouraging we should nonetheless be cautious as to the significance of this score and recreate the same test using different libraries"
   ]
  },
  {
   "cell_type": "code",
   "execution_count": null,
   "metadata": {},
   "outputs": [],
   "source": []
  }
 ],
 "metadata": {
  "kernelspec": {
   "display_name": "Python 3",
   "language": "python",
   "name": "python3"
  },
  "language_info": {
   "codemirror_mode": {
    "name": "ipython",
    "version": 3
   },
   "file_extension": ".py",
   "mimetype": "text/x-python",
   "name": "python",
   "nbconvert_exporter": "python",
   "pygments_lexer": "ipython3",
   "version": "3.7.6"
  }
 },
 "nbformat": 4,
 "nbformat_minor": 4
}
